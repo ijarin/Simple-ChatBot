{
  "nbformat": 4,
  "nbformat_minor": 0,
  "metadata": {
    "colab": {
      "name": "ChatBot.ipynb",
      "provenance": []
    },
    "kernelspec": {
      "name": "python3",
      "display_name": "Python 3"
    }
  },
  "cells": [
    {
      "cell_type": "code",
      "metadata": {
        "id": "lLL-WSoR4UZO",
        "colab_type": "code",
        "colab": {}
      },
      "source": [
        "#install required library \n",
        "!python -m spacy download en_core_web_lg"
      ],
      "execution_count": null,
      "outputs": []
    },
    {
      "cell_type": "code",
      "metadata": {
        "id": "Vq0HOHwzrZe1",
        "colab_type": "code",
        "colab": {}
      },
      "source": [
        "#Learn to create your first chatbot using NLTK and Keras\n",
        "#import the required libraries \n",
        "import en_core_web_lg # Large SpaCy model for English language\n",
        "import numpy as np\n",
        "import re # regular expressions\n",
        "import spacy # NLU library\n",
        "\n",
        "from collections import defaultdict\n",
        "from sklearn.svm import SVC # Support Vector Classification model"
      ],
      "execution_count": 2,
      "outputs": []
    },
    {
      "cell_type": "code",
      "metadata": {
        "id": "XldywPmmuUve",
        "colab_type": "code",
        "colab": {}
      },
      "source": [
        "output_format = \"OUT: {output}\" "
      ],
      "execution_count": 3,
      "outputs": []
    },
    {
      "cell_type": "code",
      "metadata": {
        "id": "EeBSxSHDubC8",
        "colab_type": "code",
        "colab": {}
      },
      "source": [
        "#version1: Use exact matches \n",
        "#hard_coded exact questions\n",
        "responses_exact = {\n",
        "    \"what would you like to eat tonight?\": \"Pasta with salmon and red pesto please!\",\n",
        "    \"what time will you be home tonight?\": \"I will be home around 6 pm.\",\n",
        "    \"what is your name?\": \" My name is chickpea\",\n",
        "    \"Do you love music?\": \"Who does not?\",\n",
        "    \"What music do you love?\" : \"melody\",\n",
        "    \"tell me a joke\" : \" life is a joke\",\n",
        "    \"default\": \"I don't know dear!\"\n",
        "}\n",
        "\n",
        "def respond_exact(text):\n",
        "    response = responses_exact.get(text.lower(), responses_exact['default'])\n",
        "    return(output_format.format(input=text, output=response))"
      ],
      "execution_count": 4,
      "outputs": []
    },
    {
      "cell_type": "code",
      "metadata": {
        "id": "sOE0FYiO0Ahb",
        "colab_type": "code",
        "colab": {
          "base_uri": "https://localhost:8080/",
          "height": 35
        },
        "outputId": "c1b8cc67-69eb-4824-cc9c-d6f966317751"
      },
      "source": [
        "respond_exact(\"who is the president of US\")"
      ],
      "execution_count": 5,
      "outputs": [
        {
          "output_type": "execute_result",
          "data": {
            "application/vnd.google.colaboratory.intrinsic": {
              "type": "string"
            },
            "text/plain": [
              "\"OUT: I don't know dear!\""
            ]
          },
          "metadata": {
            "tags": []
          },
          "execution_count": 5
        }
      ]
    },
    {
      "cell_type": "code",
      "metadata": {
        "id": "j1nl55QM1sZd",
        "colab_type": "code",
        "colab": {}
      },
      "source": [
        "#Version2: Pattern matching \n",
        "intent_keywords = {\n",
        "    'dinner_preference': ['eat', 'dinner', 'food', 'cook', 'craving'],\n",
        "    'arrival_time': ['time', 'when', 'get here', 'be home'],\n",
        "    'Music' :[ 'tune', 'singer', 'favorite', 'melody', 'music','song'],\n",
        "    'Hobby' :[ 'do','dancing', 'swimming', 'reading book', 'Tour','what','hobby'],\n",
        "    'Book' :['reading','buying', 'popular', 'sad', 'romantic']\n",
        "}\n",
        "# Create a dictionary of patterns\n",
        "patterns = {intent: re.compile('|'.join(keys)) for intent, keys in intent_keywords.items()}\n",
        "# Define a function to find the intent of a message\n",
        "def get_intent_re(message):\n",
        "    for intent, pattern in patterns.items():\n",
        "        # Check if the pattern occurs in the message \n",
        "        if pattern.search(message):\n",
        "            return(intent)\n",
        "    else:\n",
        "        return('default')\n",
        "\n",
        "responses_re = {\n",
        "    \"dinner_preference\":\"Pasta with salmon and red pesto please!\",\n",
        "    \"arrival_time\": \"I will be home around 6 pm.\",\n",
        "    \"Music\": \" yah I love music, I love melody songs. What's your favorite?\",\n",
        "    \"Hobby\": \"My hobby is reading detective novel and running\",\n",
        "    \"default\":\"I don't know dear, but thanks for asking!\"\n",
        "}\n",
        "\n",
        "def respond_re(text):\n",
        "    response = responses_re.get(get_intent_re(text))\n",
        "    return(output_format.format(input=text, output=response))"
      ],
      "execution_count": 6,
      "outputs": []
    },
    {
      "cell_type": "code",
      "metadata": {
        "id": "ouTtqC_x-7nx",
        "colab_type": "code",
        "colab": {
          "base_uri": "https://localhost:8080/",
          "height": 35
        },
        "outputId": "37ad6144-d30f-4421-c7ed-b23c952068f1"
      },
      "source": [
        "respond_re(\"when do you come?\")"
      ],
      "execution_count": 7,
      "outputs": [
        {
          "output_type": "execute_result",
          "data": {
            "application/vnd.google.colaboratory.intrinsic": {
              "type": "string"
            },
            "text/plain": [
              "'OUT: I will be home around 6 pm.'"
            ]
          },
          "metadata": {
            "tags": []
          },
          "execution_count": 7
        }
      ]
    },
    {
      "cell_type": "code",
      "metadata": {
        "id": "7EAuOC9iAP_m",
        "colab_type": "code",
        "colab": {}
      },
      "source": [
        "#version 3: Machine learning \n",
        "training_sentences = [\n",
        "    \"What would you like to have for dinner?\",\n",
        "    \"What do you want to eat tonight?\",\n",
        "    \"I don't know what to cook tonight.\",\n",
        "    \"Do you have any cravings?\",\n",
        "    \"Can I get you something to eat?\", \n",
        "    \"What time will you be home?\",\n",
        "    \"How much longer will you be?\",\n",
        "    \"When can we expect you to get here?\",\n",
        "    \"What's taking you so long?\",\n",
        "    \"At what hour will you be here?\"\n",
        "    \n",
        "]\n",
        "\n",
        "training_intents = [\n",
        "    \"dinner_preference\",\n",
        "    \"dinner_preference\",\n",
        "    \"dinner_preference\",\n",
        "    \"dinner_preference\",\n",
        "    \"dinner_preference\",\n",
        "    \"arrival_time\",\n",
        "    \"arrival_time\",\n",
        "    \"arrival_time\",\n",
        "    \"arrival_time\",\n",
        "    \"arrival_time\"   \n",
        "]"
      ],
      "execution_count": 8,
      "outputs": []
    },
    {
      "cell_type": "code",
      "metadata": {
        "id": "rkR0FtHrW8ih",
        "colab_type": "code",
        "colab": {}
      },
      "source": [
        "#this may take a couple of seconds\n",
        "nlp = en_core_web_lg.load()"
      ],
      "execution_count": 9,
      "outputs": []
    },
    {
      "cell_type": "code",
      "metadata": {
        "id": "k4-0WTKoXMxm",
        "colab_type": "code",
        "colab": {}
      },
      "source": [
        "# Initialize the array with zeros: X\n",
        "X_train = np.zeros((len(training_sentences), \n",
        "              nlp('sentences').vocab.vectors_length))\n",
        "\n",
        "for i, sentence in enumerate(training_sentences):\n",
        "    # Pass each each sentence to the nlp object to create a document\n",
        "    doc = nlp(sentence)\n",
        "    # Save the document's .vector attribute to the corresponding row in X\n",
        "    X_train[i, :] = doc.vector"
      ],
      "execution_count": 10,
      "outputs": []
    },
    {
      "cell_type": "code",
      "metadata": {
        "id": "7LAMTKVhXU0B",
        "colab_type": "code",
        "colab": {
          "base_uri": "https://localhost:8080/",
          "height": 90
        },
        "outputId": "71e77b3c-bd5f-44ed-aea4-ee23088da672"
      },
      "source": [
        "# Create a support vector classifier\n",
        "svm_model = SVC(C=1, gamma=\"auto\", probability=True)\n",
        "\n",
        "# Fit the classifier using the training data\n",
        "svm_model.fit(X_train, training_intents)"
      ],
      "execution_count": 11,
      "outputs": [
        {
          "output_type": "execute_result",
          "data": {
            "text/plain": [
              "SVC(C=1, break_ties=False, cache_size=200, class_weight=None, coef0=0.0,\n",
              "    decision_function_shape='ovr', degree=3, gamma='auto', kernel='rbf',\n",
              "    max_iter=-1, probability=True, random_state=None, shrinking=True, tol=0.001,\n",
              "    verbose=False)"
            ]
          },
          "metadata": {
            "tags": []
          },
          "execution_count": 11
        }
      ]
    },
    {
      "cell_type": "code",
      "metadata": {
        "id": "m0Mi2-GOaqLJ",
        "colab_type": "code",
        "colab": {}
      },
      "source": [
        "def get_intent_ml(text):\n",
        "    doc = nlp(text)\n",
        "    return(svm_model.predict([doc.vector])[0])"
      ],
      "execution_count": 12,
      "outputs": []
    },
    {
      "cell_type": "code",
      "metadata": {
        "id": "skjMtXSabFkN",
        "colab_type": "code",
        "colab": {}
      },
      "source": [
        "responses_ml = {\n",
        "    \"dinner_preference\":\"Pasta with salmon and red pesto please!\",\n",
        "    \"arrival_time\": \"I will be home around 6 pm.\",\n",
        "    \"default\":\"I like you too!\"\n",
        "}\n",
        "\n",
        "def respond_ml(text):\n",
        "    response = responses_ml.get(get_intent_ml(text), responses_ml[\"default\"])\n",
        "    return(output_format.format(input=text, output=response))"
      ],
      "execution_count": 13,
      "outputs": []
    },
    {
      "cell_type": "code",
      "metadata": {
        "id": "T0nR83C6e1kh",
        "colab_type": "code",
        "colab": {
          "base_uri": "https://localhost:8080/",
          "height": 35
        },
        "outputId": "6f06889e-c3c6-4ee1-9749-b92ef1a26ee6"
      },
      "source": [
        "print(respond_ml(\"do you wanna eat?\"))\n"
      ],
      "execution_count": 14,
      "outputs": [
        {
          "output_type": "stream",
          "text": [
            "OUT: Pasta with salmon and red pesto please!\n"
          ],
          "name": "stdout"
        }
      ]
    },
    {
      "cell_type": "code",
      "metadata": {
        "id": "IoWxKhJWyfAs",
        "colab_type": "code",
        "colab": {}
      },
      "source": [
        ""
      ],
      "execution_count": null,
      "outputs": []
    }
  ]
}